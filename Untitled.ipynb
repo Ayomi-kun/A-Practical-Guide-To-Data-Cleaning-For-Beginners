{
 "cells": [
  {
   "cell_type": "code",
   "execution_count": 18,
   "metadata": {
    "collapsed": true
   },
   "outputs": [],
   "source": [
    "import pandas as pd\n",
    "import numpy as np\n"
   ]
  },
  {
   "cell_type": "code",
   "execution_count": null,
   "metadata": {
    "collapsed": true
   },
   "outputs": [],
   "source": [
    "\n",
    "\n",
    "\n",
    "\n",
    "\n",
    "\n",
    "\n",
    "\n",
    "\n",
    "\n",
    "\n",
    "\n",
    "\n"
   ]
  },
  {
   "cell_type": "code",
   "execution_count": 2,
   "metadata": {
    "collapsed": true
   },
   "outputs": [],
   "source": [
    "#Import Data Sets\n",
    "\n",
    "test = pd.read_csv('TEST.csv')\n",
    "train = pd.read_csv('TRAIN.csv')"
   ]
  },
  {
   "cell_type": "code",
   "execution_count": 22,
   "metadata": {},
   "outputs": [
    {
     "data": {
      "text/plain": [
       "Customer ID                                      1\n",
       "network_age                                      1\n",
       "Customer tenure in month                         1\n",
       "Total Spend in Months 1 and 2 of 2017            1\n",
       "Total SMS Spend                                  1\n",
       "Total Data Spend                                 1\n",
       "Total Data Consumption                           1\n",
       "Total Unique Calls                               1\n",
       "Total Onnet spend                                1\n",
       "Total Offnet spend                               1\n",
       "Total Call centre complaint calls                1\n",
       "Network type subscription in Month 1           176\n",
       "Network type subscription in Month 2           145\n",
       "Most Loved Competitor network in in Month 1      2\n",
       "Most Loved Competitor network in in Month 2      2\n",
       "Churn Status                                     1\n",
       "dtype: int64"
      ]
     },
     "execution_count": 22,
     "metadata": {},
     "output_type": "execute_result"
    }
   ],
   "source": [
    "total_cells = np.product(train.shape)\n",
    "total_missing = train.isnull().sum()\n",
    "total_missing\n",
    "\n",
    "# percent of data that is missing\n",
    "#(total_missing/total_cells) * 100"
   ]
  },
  {
   "cell_type": "code",
   "execution_count": null,
   "metadata": {
    "collapsed": true
   },
   "outputs": [],
   "source": []
  },
  {
   "cell_type": "code",
   "execution_count": null,
   "metadata": {
    "collapsed": true
   },
   "outputs": [],
   "source": []
  },
  {
   "cell_type": "code",
   "execution_count": null,
   "metadata": {
    "collapsed": true
   },
   "outputs": [],
   "source": []
  },
  {
   "cell_type": "code",
   "execution_count": null,
   "metadata": {
    "collapsed": true
   },
   "outputs": [],
   "source": []
  },
  {
   "cell_type": "code",
   "execution_count": null,
   "metadata": {
    "collapsed": true
   },
   "outputs": [],
   "source": []
  },
  {
   "cell_type": "code",
   "execution_count": 4,
   "metadata": {},
   "outputs": [
    {
     "name": "stdout",
     "output_type": "stream",
     "text": [
      "<class 'pandas.core.frame.DataFrame'>\n",
      "RangeIndex: 600 entries, 0 to 599\n",
      "Data columns (total 15 columns):\n",
      "Customer ID                                    600 non-null object\n",
      "network_age                                    600 non-null int64\n",
      "Customer tenure in month                       600 non-null float64\n",
      "Total Spend in Months 1 and 2 of 2017          600 non-null float64\n",
      "Total SMS Spend                                600 non-null float64\n",
      "Total Data Spend                               600 non-null float64\n",
      "Total Data Consumption                         600 non-null float64\n",
      "Total Unique Calls                             600 non-null int64\n",
      "Total Onnet spend                              600 non-null int64\n",
      "Total Offnet spend                             600 non-null int64\n",
      "Total Call centre complaint calls              600 non-null int64\n",
      "Network type subscription in Month 1           530 non-null object\n",
      "Network type subscription in Month 2           538 non-null object\n",
      "Most Loved Competitor network in in Month 1    600 non-null object\n",
      "Most Loved Competitor network in in Month 2    600 non-null object\n",
      "dtypes: float64(5), int64(5), object(5)\n",
      "memory usage: 70.4+ KB\n"
     ]
    }
   ],
   "source": [
    "test.info()"
   ]
  },
  {
   "cell_type": "code",
   "execution_count": 5,
   "metadata": {},
   "outputs": [
    {
     "name": "stdout",
     "output_type": "stream",
     "text": [
      "<class 'pandas.core.frame.DataFrame'>\n",
      "RangeIndex: 1401 entries, 0 to 1400\n",
      "Data columns (total 16 columns):\n",
      "Customer ID                                    1400 non-null object\n",
      "network_age                                    1400 non-null float64\n",
      "Customer tenure in month                       1400 non-null float64\n",
      "Total Spend in Months 1 and 2 of 2017          1400 non-null float64\n",
      "Total SMS Spend                                1400 non-null float64\n",
      "Total Data Spend                               1400 non-null float64\n",
      "Total Data Consumption                         1400 non-null float64\n",
      "Total Unique Calls                             1400 non-null float64\n",
      "Total Onnet spend                              1400 non-null float64\n",
      "Total Offnet spend                             1400 non-null float64\n",
      "Total Call centre complaint calls              1400 non-null float64\n",
      "Network type subscription in Month 1           1225 non-null object\n",
      "Network type subscription in Month 2           1256 non-null object\n",
      "Most Loved Competitor network in in Month 1    1399 non-null object\n",
      "Most Loved Competitor network in in Month 2    1399 non-null object\n",
      "Churn Status                                   1400 non-null float64\n",
      "dtypes: float64(11), object(5)\n",
      "memory usage: 175.2+ KB\n"
     ]
    }
   ],
   "source": [
    "train.info()"
   ]
  },
  {
   "cell_type": "code",
   "execution_count": 6,
   "metadata": {},
   "outputs": [
    {
     "data": {
      "text/html": [
       "<div>\n",
       "<style>\n",
       "    .dataframe thead tr:only-child th {\n",
       "        text-align: right;\n",
       "    }\n",
       "\n",
       "    .dataframe thead th {\n",
       "        text-align: left;\n",
       "    }\n",
       "\n",
       "    .dataframe tbody tr th {\n",
       "        vertical-align: top;\n",
       "    }\n",
       "</style>\n",
       "<table border=\"1\" class=\"dataframe\">\n",
       "  <thead>\n",
       "    <tr style=\"text-align: right;\">\n",
       "      <th></th>\n",
       "      <th>Customer ID</th>\n",
       "      <th>network_age</th>\n",
       "      <th>Customer tenure in month</th>\n",
       "      <th>Total Spend in Months 1 and 2 of 2017</th>\n",
       "      <th>Total SMS Spend</th>\n",
       "      <th>Total Data Spend</th>\n",
       "      <th>Total Data Consumption</th>\n",
       "      <th>Total Unique Calls</th>\n",
       "      <th>Total Onnet spend</th>\n",
       "      <th>Total Offnet spend</th>\n",
       "      <th>Total Call centre complaint calls</th>\n",
       "      <th>Network type subscription in Month 1</th>\n",
       "      <th>Network type subscription in Month 2</th>\n",
       "      <th>Most Loved Competitor network in in Month 1</th>\n",
       "      <th>Most Loved Competitor network in in Month 2</th>\n",
       "      <th>Churn Status</th>\n",
       "    </tr>\n",
       "  </thead>\n",
       "  <tbody>\n",
       "    <tr>\n",
       "      <th>0</th>\n",
       "      <td>ADF0039</td>\n",
       "      <td>123.0</td>\n",
       "      <td>4.10</td>\n",
       "      <td>76.7140</td>\n",
       "      <td>0.00</td>\n",
       "      <td>1.25</td>\n",
       "      <td>1.4951</td>\n",
       "      <td>14.0</td>\n",
       "      <td>564.0</td>\n",
       "      <td>6408.0</td>\n",
       "      <td>2.0</td>\n",
       "      <td>2G</td>\n",
       "      <td>2G</td>\n",
       "      <td>Uxaa</td>\n",
       "      <td>Mango</td>\n",
       "      <td>0.0</td>\n",
       "    </tr>\n",
       "    <tr>\n",
       "      <th>1</th>\n",
       "      <td>ADF0041</td>\n",
       "      <td>1316.0</td>\n",
       "      <td>43.87</td>\n",
       "      <td>98.8904</td>\n",
       "      <td>4.14</td>\n",
       "      <td>1.25</td>\n",
       "      <td>1.0244</td>\n",
       "      <td>27.0</td>\n",
       "      <td>1626.0</td>\n",
       "      <td>4373.0</td>\n",
       "      <td>1.0</td>\n",
       "      <td>2G</td>\n",
       "      <td>2G</td>\n",
       "      <td>Uxaa</td>\n",
       "      <td>Mango</td>\n",
       "      <td>0.0</td>\n",
       "    </tr>\n",
       "    <tr>\n",
       "      <th>2</th>\n",
       "      <td>ADF0051</td>\n",
       "      <td>2385.0</td>\n",
       "      <td>79.50</td>\n",
       "      <td>372.6300</td>\n",
       "      <td>3.51</td>\n",
       "      <td>1.25</td>\n",
       "      <td>6.0898</td>\n",
       "      <td>119.0</td>\n",
       "      <td>10411.0</td>\n",
       "      <td>22039.0</td>\n",
       "      <td>1.0</td>\n",
       "      <td>2G</td>\n",
       "      <td>2G</td>\n",
       "      <td>Weematel</td>\n",
       "      <td>Mango</td>\n",
       "      <td>0.0</td>\n",
       "    </tr>\n",
       "    <tr>\n",
       "      <th>3</th>\n",
       "      <td>ADF0059</td>\n",
       "      <td>1614.0</td>\n",
       "      <td>53.80</td>\n",
       "      <td>530.2000</td>\n",
       "      <td>6.85</td>\n",
       "      <td>1.25</td>\n",
       "      <td>3.3447</td>\n",
       "      <td>69.0</td>\n",
       "      <td>6822.0</td>\n",
       "      <td>6274.0</td>\n",
       "      <td>1.0</td>\n",
       "      <td>2G</td>\n",
       "      <td>2G</td>\n",
       "      <td>0</td>\n",
       "      <td>Mango</td>\n",
       "      <td>0.0</td>\n",
       "    </tr>\n",
       "    <tr>\n",
       "      <th>4</th>\n",
       "      <td>ADF0060</td>\n",
       "      <td>2175.0</td>\n",
       "      <td>72.50</td>\n",
       "      <td>554.1300</td>\n",
       "      <td>6.99</td>\n",
       "      <td>153.75</td>\n",
       "      <td>673204.0342</td>\n",
       "      <td>33.0</td>\n",
       "      <td>3387.0</td>\n",
       "      <td>7241.0</td>\n",
       "      <td>1.0</td>\n",
       "      <td>2G</td>\n",
       "      <td>3G</td>\n",
       "      <td>Weematel</td>\n",
       "      <td>Mango</td>\n",
       "      <td>0.0</td>\n",
       "    </tr>\n",
       "  </tbody>\n",
       "</table>\n",
       "</div>"
      ],
      "text/plain": [
       "  Customer ID  network_age  Customer tenure in month  \\\n",
       "0     ADF0039        123.0                      4.10   \n",
       "1     ADF0041       1316.0                     43.87   \n",
       "2     ADF0051       2385.0                     79.50   \n",
       "3     ADF0059       1614.0                     53.80   \n",
       "4     ADF0060       2175.0                     72.50   \n",
       "\n",
       "   Total Spend in Months 1 and 2 of 2017  Total SMS Spend  Total Data Spend  \\\n",
       "0                                76.7140             0.00              1.25   \n",
       "1                                98.8904             4.14              1.25   \n",
       "2                               372.6300             3.51              1.25   \n",
       "3                               530.2000             6.85              1.25   \n",
       "4                               554.1300             6.99            153.75   \n",
       "\n",
       "   Total Data Consumption  Total Unique Calls  Total Onnet spend   \\\n",
       "0                  1.4951                14.0               564.0   \n",
       "1                  1.0244                27.0              1626.0   \n",
       "2                  6.0898               119.0             10411.0   \n",
       "3                  3.3447                69.0              6822.0   \n",
       "4             673204.0342                33.0              3387.0   \n",
       "\n",
       "   Total Offnet spend  Total Call centre complaint calls  \\\n",
       "0              6408.0                                2.0   \n",
       "1              4373.0                                1.0   \n",
       "2             22039.0                                1.0   \n",
       "3              6274.0                                1.0   \n",
       "4              7241.0                                1.0   \n",
       "\n",
       "  Network type subscription in Month 1 Network type subscription in Month 2  \\\n",
       "0                                   2G                                   2G   \n",
       "1                                   2G                                   2G   \n",
       "2                                   2G                                   2G   \n",
       "3                                   2G                                   2G   \n",
       "4                                   2G                                   3G   \n",
       "\n",
       "  Most Loved Competitor network in in Month 1  \\\n",
       "0                                        Uxaa   \n",
       "1                                        Uxaa   \n",
       "2                                    Weematel   \n",
       "3                                           0   \n",
       "4                                    Weematel   \n",
       "\n",
       "  Most Loved Competitor network in in Month 2  Churn Status  \n",
       "0                                       Mango           0.0  \n",
       "1                                       Mango           0.0  \n",
       "2                                       Mango           0.0  \n",
       "3                                       Mango           0.0  \n",
       "4                                       Mango           0.0  "
      ]
     },
     "execution_count": 6,
     "metadata": {},
     "output_type": "execute_result"
    }
   ],
   "source": [
    "train.head()"
   ]
  },
  {
   "cell_type": "code",
   "execution_count": 7,
   "metadata": {},
   "outputs": [
    {
     "data": {
      "text/html": [
       "<div>\n",
       "<style>\n",
       "    .dataframe thead tr:only-child th {\n",
       "        text-align: right;\n",
       "    }\n",
       "\n",
       "    .dataframe thead th {\n",
       "        text-align: left;\n",
       "    }\n",
       "\n",
       "    .dataframe tbody tr th {\n",
       "        vertical-align: top;\n",
       "    }\n",
       "</style>\n",
       "<table border=\"1\" class=\"dataframe\">\n",
       "  <thead>\n",
       "    <tr style=\"text-align: right;\">\n",
       "      <th></th>\n",
       "      <th>Customer ID</th>\n",
       "      <th>network_age</th>\n",
       "      <th>Customer tenure in month</th>\n",
       "      <th>Total Spend in Months 1 and 2 of 2017</th>\n",
       "      <th>Total SMS Spend</th>\n",
       "      <th>Total Data Spend</th>\n",
       "      <th>Total Data Consumption</th>\n",
       "      <th>Total Unique Calls</th>\n",
       "      <th>Total Onnet spend</th>\n",
       "      <th>Total Offnet spend</th>\n",
       "      <th>Total Call centre complaint calls</th>\n",
       "      <th>Network type subscription in Month 1</th>\n",
       "      <th>Network type subscription in Month 2</th>\n",
       "      <th>Most Loved Competitor network in in Month 1</th>\n",
       "      <th>Most Loved Competitor network in in Month 2</th>\n",
       "    </tr>\n",
       "  </thead>\n",
       "  <tbody>\n",
       "    <tr>\n",
       "      <th>0</th>\n",
       "      <td>ADF0001</td>\n",
       "      <td>1012</td>\n",
       "      <td>33.733333</td>\n",
       "      <td>1560.1156</td>\n",
       "      <td>14.04</td>\n",
       "      <td>226.3</td>\n",
       "      <td>3.126093e+06</td>\n",
       "      <td>64</td>\n",
       "      <td>14503</td>\n",
       "      <td>12402</td>\n",
       "      <td>1</td>\n",
       "      <td>3G</td>\n",
       "      <td>3G</td>\n",
       "      <td>Weematel</td>\n",
       "      <td>Mango</td>\n",
       "    </tr>\n",
       "    <tr>\n",
       "      <th>1</th>\n",
       "      <td>ADF0002</td>\n",
       "      <td>137</td>\n",
       "      <td>4.566667</td>\n",
       "      <td>1705.8368</td>\n",
       "      <td>73.63</td>\n",
       "      <td>5.0</td>\n",
       "      <td>1.628809e+02</td>\n",
       "      <td>515</td>\n",
       "      <td>29832</td>\n",
       "      <td>88953</td>\n",
       "      <td>9</td>\n",
       "      <td>3G</td>\n",
       "      <td>3G</td>\n",
       "      <td>ToCall</td>\n",
       "      <td>Mango</td>\n",
       "    </tr>\n",
       "    <tr>\n",
       "      <th>2</th>\n",
       "      <td>ADF0003</td>\n",
       "      <td>202</td>\n",
       "      <td>6.733333</td>\n",
       "      <td>1720.3008</td>\n",
       "      <td>4.36</td>\n",
       "      <td>245.0</td>\n",
       "      <td>3.334607e+06</td>\n",
       "      <td>163</td>\n",
       "      <td>228</td>\n",
       "      <td>1495</td>\n",
       "      <td>1</td>\n",
       "      <td>3G</td>\n",
       "      <td>3G</td>\n",
       "      <td>ToCall</td>\n",
       "      <td>Mango</td>\n",
       "    </tr>\n",
       "    <tr>\n",
       "      <th>3</th>\n",
       "      <td>ADF0004</td>\n",
       "      <td>165</td>\n",
       "      <td>5.500000</td>\n",
       "      <td>1732.2800</td>\n",
       "      <td>0.00</td>\n",
       "      <td>12.5</td>\n",
       "      <td>6.682924e+05</td>\n",
       "      <td>484</td>\n",
       "      <td>0</td>\n",
       "      <td>71928</td>\n",
       "      <td>2</td>\n",
       "      <td>3G</td>\n",
       "      <td>3G</td>\n",
       "      <td>Uxaa</td>\n",
       "      <td>Mango</td>\n",
       "    </tr>\n",
       "    <tr>\n",
       "      <th>4</th>\n",
       "      <td>ADF0005</td>\n",
       "      <td>759</td>\n",
       "      <td>25.300000</td>\n",
       "      <td>1873.0600</td>\n",
       "      <td>69.57</td>\n",
       "      <td>412.5</td>\n",
       "      <td>6.666975e+06</td>\n",
       "      <td>64</td>\n",
       "      <td>7616</td>\n",
       "      <td>20753</td>\n",
       "      <td>2</td>\n",
       "      <td>3G</td>\n",
       "      <td>3G</td>\n",
       "      <td>Mango</td>\n",
       "      <td>Mango</td>\n",
       "    </tr>\n",
       "  </tbody>\n",
       "</table>\n",
       "</div>"
      ],
      "text/plain": [
       "  Customer ID  network_age  Customer tenure in month  \\\n",
       "0     ADF0001         1012                 33.733333   \n",
       "1     ADF0002          137                  4.566667   \n",
       "2     ADF0003          202                  6.733333   \n",
       "3     ADF0004          165                  5.500000   \n",
       "4     ADF0005          759                 25.300000   \n",
       "\n",
       "   Total Spend in Months 1 and 2 of 2017  Total SMS Spend  Total Data Spend  \\\n",
       "0                              1560.1156            14.04             226.3   \n",
       "1                              1705.8368            73.63               5.0   \n",
       "2                              1720.3008             4.36             245.0   \n",
       "3                              1732.2800             0.00              12.5   \n",
       "4                              1873.0600            69.57             412.5   \n",
       "\n",
       "   Total Data Consumption  Total Unique Calls  Total Onnet spend   \\\n",
       "0            3.126093e+06                  64               14503   \n",
       "1            1.628809e+02                 515               29832   \n",
       "2            3.334607e+06                 163                 228   \n",
       "3            6.682924e+05                 484                   0   \n",
       "4            6.666975e+06                  64                7616   \n",
       "\n",
       "   Total Offnet spend  Total Call centre complaint calls  \\\n",
       "0               12402                                  1   \n",
       "1               88953                                  9   \n",
       "2                1495                                  1   \n",
       "3               71928                                  2   \n",
       "4               20753                                  2   \n",
       "\n",
       "  Network type subscription in Month 1 Network type subscription in Month 2  \\\n",
       "0                                   3G                                   3G   \n",
       "1                                   3G                                   3G   \n",
       "2                                   3G                                   3G   \n",
       "3                                   3G                                   3G   \n",
       "4                                   3G                                   3G   \n",
       "\n",
       "  Most Loved Competitor network in in Month 1  \\\n",
       "0                                    Weematel   \n",
       "1                                      ToCall   \n",
       "2                                      ToCall   \n",
       "3                                        Uxaa   \n",
       "4                                       Mango   \n",
       "\n",
       "  Most Loved Competitor network in in Month 2  \n",
       "0                                       Mango  \n",
       "1                                       Mango  \n",
       "2                                       Mango  \n",
       "3                                       Mango  \n",
       "4                                       Mango  "
      ]
     },
     "execution_count": 7,
     "metadata": {},
     "output_type": "execute_result"
    }
   ],
   "source": [
    "test.head()"
   ]
  },
  {
   "cell_type": "code",
   "execution_count": 8,
   "metadata": {
    "collapsed": true
   },
   "outputs": [],
   "source": [
    "train_remove = train[train.columns.difference(['Customer ID','network_age', 'Customer tenure in month','Network type subscription in Month 1','Network type subscription in Month 2','Most Loved Competitor network in in Month 1','Most Loved Competitor network in in Month 2'])]"
   ]
  },
  {
   "cell_type": "code",
   "execution_count": 9,
   "metadata": {},
   "outputs": [
    {
     "data": {
      "text/html": [
       "<div>\n",
       "<style>\n",
       "    .dataframe thead tr:only-child th {\n",
       "        text-align: right;\n",
       "    }\n",
       "\n",
       "    .dataframe thead th {\n",
       "        text-align: left;\n",
       "    }\n",
       "\n",
       "    .dataframe tbody tr th {\n",
       "        vertical-align: top;\n",
       "    }\n",
       "</style>\n",
       "<table border=\"1\" class=\"dataframe\">\n",
       "  <thead>\n",
       "    <tr style=\"text-align: right;\">\n",
       "      <th></th>\n",
       "      <th>Churn Status</th>\n",
       "      <th>Total Call centre complaint calls</th>\n",
       "      <th>Total Data Consumption</th>\n",
       "      <th>Total Data Spend</th>\n",
       "      <th>Total Offnet spend</th>\n",
       "      <th>Total Onnet spend</th>\n",
       "      <th>Total SMS Spend</th>\n",
       "      <th>Total Spend in Months 1 and 2 of 2017</th>\n",
       "      <th>Total Unique Calls</th>\n",
       "    </tr>\n",
       "  </thead>\n",
       "  <tbody>\n",
       "    <tr>\n",
       "      <th>0</th>\n",
       "      <td>0.0</td>\n",
       "      <td>2.0</td>\n",
       "      <td>1.4951</td>\n",
       "      <td>1.25</td>\n",
       "      <td>6408.0</td>\n",
       "      <td>564.0</td>\n",
       "      <td>0.00</td>\n",
       "      <td>76.7140</td>\n",
       "      <td>14.0</td>\n",
       "    </tr>\n",
       "    <tr>\n",
       "      <th>1</th>\n",
       "      <td>0.0</td>\n",
       "      <td>1.0</td>\n",
       "      <td>1.0244</td>\n",
       "      <td>1.25</td>\n",
       "      <td>4373.0</td>\n",
       "      <td>1626.0</td>\n",
       "      <td>4.14</td>\n",
       "      <td>98.8904</td>\n",
       "      <td>27.0</td>\n",
       "    </tr>\n",
       "    <tr>\n",
       "      <th>2</th>\n",
       "      <td>0.0</td>\n",
       "      <td>1.0</td>\n",
       "      <td>6.0898</td>\n",
       "      <td>1.25</td>\n",
       "      <td>22039.0</td>\n",
       "      <td>10411.0</td>\n",
       "      <td>3.51</td>\n",
       "      <td>372.6300</td>\n",
       "      <td>119.0</td>\n",
       "    </tr>\n",
       "    <tr>\n",
       "      <th>3</th>\n",
       "      <td>0.0</td>\n",
       "      <td>1.0</td>\n",
       "      <td>3.3447</td>\n",
       "      <td>1.25</td>\n",
       "      <td>6274.0</td>\n",
       "      <td>6822.0</td>\n",
       "      <td>6.85</td>\n",
       "      <td>530.2000</td>\n",
       "      <td>69.0</td>\n",
       "    </tr>\n",
       "    <tr>\n",
       "      <th>4</th>\n",
       "      <td>0.0</td>\n",
       "      <td>1.0</td>\n",
       "      <td>673204.0342</td>\n",
       "      <td>153.75</td>\n",
       "      <td>7241.0</td>\n",
       "      <td>3387.0</td>\n",
       "      <td>6.99</td>\n",
       "      <td>554.1300</td>\n",
       "      <td>33.0</td>\n",
       "    </tr>\n",
       "  </tbody>\n",
       "</table>\n",
       "</div>"
      ],
      "text/plain": [
       "   Churn Status  Total Call centre complaint calls  Total Data Consumption  \\\n",
       "0           0.0                                2.0                  1.4951   \n",
       "1           0.0                                1.0                  1.0244   \n",
       "2           0.0                                1.0                  6.0898   \n",
       "3           0.0                                1.0                  3.3447   \n",
       "4           0.0                                1.0             673204.0342   \n",
       "\n",
       "   Total Data Spend  Total Offnet spend  Total Onnet spend   Total SMS Spend  \\\n",
       "0              1.25              6408.0               564.0             0.00   \n",
       "1              1.25              4373.0              1626.0             4.14   \n",
       "2              1.25             22039.0             10411.0             3.51   \n",
       "3              1.25              6274.0              6822.0             6.85   \n",
       "4            153.75              7241.0              3387.0             6.99   \n",
       "\n",
       "   Total Spend in Months 1 and 2 of 2017  Total Unique Calls  \n",
       "0                                76.7140                14.0  \n",
       "1                                98.8904                27.0  \n",
       "2                               372.6300               119.0  \n",
       "3                               530.2000                69.0  \n",
       "4                               554.1300                33.0  "
      ]
     },
     "execution_count": 9,
     "metadata": {},
     "output_type": "execute_result"
    }
   ],
   "source": [
    "train_remove.head()"
   ]
  },
  {
   "cell_type": "code",
   "execution_count": 10,
   "metadata": {
    "collapsed": true
   },
   "outputs": [],
   "source": [
    "import numpy as np                   ## Array creation \n",
    "\n",
    "# For plotting charts \n",
    "%matplotlib inline\n",
    "import matplotlib.pyplot as plt\n",
    "import seaborn as sns "
   ]
  },
  {
   "cell_type": "code",
   "execution_count": 11,
   "metadata": {},
   "outputs": [
    {
     "data": {
      "image/png": "[encoded data removed]",
      "text/plain": [
       "<matplotlib.figure.Figure at 0x3dff7c3fd0>"
      ]
     },
     "metadata": {},
     "output_type": "display_data"
    }
   ],
   "source": [
    "train_remove.hist(bins=50, figsize=(11,8))\n",
    "plt.show()"
   ]
  },
  {
   "cell_type": "code",
   "execution_count": 12,
   "metadata": {},
   "outputs": [
    {
     "data": {
      "text/plain": [
       "<matplotlib.text.Text at 0x3d80299e10>"
      ]
     },
     "execution_count": 12,
     "metadata": {},
     "output_type": "execute_result"
    },
    {
     "data": {
      "image/png": "[encoded data removed]",
      "text/plain": [
       "<matplotlib.figure.Figure at 0x3dfd4e9c18>"
      ]
     },
     "metadata": {},
     "output_type": "display_data"
    }
   ],
   "source": [
    "corr_matrix = train_remove.corr()\n",
    "f, ax = plt.subplots(figsize=(18, 10))\n",
    "sns.heatmap(corr_matrix,linewidths=2.0, ax=ax , annot=True)\n",
    "ax.set_title('Correlation Mtrix')"
   ]
  },
  {
   "cell_type": "code",
   "execution_count": 13,
   "metadata": {},
   "outputs": [
    {
     "name": "stderr",
     "output_type": "stream",
     "text": [
      "C:\\Anaconda\\lib\\site-packages\\ipykernel_launcher.py:1: SettingWithCopyWarning: \n",
      "A value is trying to be set on a copy of a slice from a DataFrame.\n",
      "Try using .loc[row_indexer,col_indexer] = value instead\n",
      "\n",
      "See the caveats in the documentation: http://pandas.pydata.org/pandas-docs/stable/indexing.html#indexing-view-versus-copy\n",
      "  \"\"\"Entry point for launching an IPython kernel.\n",
      "C:\\Anaconda\\lib\\site-packages\\ipykernel_launcher.py:2: SettingWithCopyWarning: \n",
      "A value is trying to be set on a copy of a slice from a DataFrame.\n",
      "Try using .loc[row_indexer,col_indexer] = value instead\n",
      "\n",
      "See the caveats in the documentation: http://pandas.pydata.org/pandas-docs/stable/indexing.html#indexing-view-versus-copy\n",
      "  \n",
      "C:\\Anaconda\\lib\\site-packages\\ipykernel_launcher.py:3: SettingWithCopyWarning: \n",
      "A value is trying to be set on a copy of a slice from a DataFrame.\n",
      "Try using .loc[row_indexer,col_indexer] = value instead\n",
      "\n",
      "See the caveats in the documentation: http://pandas.pydata.org/pandas-docs/stable/indexing.html#indexing-view-versus-copy\n",
      "  This is separate from the ipykernel package so we can avoid doing imports until\n",
      "C:\\Anaconda\\lib\\site-packages\\ipykernel_launcher.py:4: SettingWithCopyWarning: \n",
      "A value is trying to be set on a copy of a slice from a DataFrame.\n",
      "Try using .loc[row_indexer,col_indexer] = value instead\n",
      "\n",
      "See the caveats in the documentation: http://pandas.pydata.org/pandas-docs/stable/indexing.html#indexing-view-versus-copy\n",
      "  after removing the cwd from sys.path.\n",
      "C:\\Anaconda\\lib\\site-packages\\ipykernel_launcher.py:5: SettingWithCopyWarning: \n",
      "A value is trying to be set on a copy of a slice from a DataFrame.\n",
      "Try using .loc[row_indexer,col_indexer] = value instead\n",
      "\n",
      "See the caveats in the documentation: http://pandas.pydata.org/pandas-docs/stable/indexing.html#indexing-view-versus-copy\n",
      "  \"\"\"\n"
     ]
    }
   ],
   "source": [
    "train_remove['offnet_month'] = train_remove['Total Offnet spend'] * train_remove['Total Spend in Months 1 and 2 of 2017'] \n",
    "train_remove['offnet_unique'] = train_remove['Total Offnet spend'] * train_remove['Total Unique Calls'] \n",
    "train_remove['month_data'] = train_remove['Total Spend in Months 1 and 2 of 2017'] * train_remove['Total Data Spend']\n",
    "train_remove['month_calls'] = train_remove['Total Spend in Months 1 and 2 of 2017'] * train_remove['Total Unique Calls']\n",
    "train_remove['offnet_onnet'] = train_remove['Total Offnet spend'] * train_remove['Total Onnet spend ']"
   ]
  },
  {
   "cell_type": "code",
   "execution_count": 14,
   "metadata": {
    "collapsed": true
   },
   "outputs": [],
   "source": [
    "train_data = train_remove[['offnet_month', 'offnet_unique','month_data','month_calls','offnet_onnet']]"
   ]
  },
  {
   "cell_type": "code",
   "execution_count": 15,
   "metadata": {},
   "outputs": [
    {
     "name": "stdout",
     "output_type": "stream",
     "text": [
      "<class 'pandas.core.frame.DataFrame'>\n",
      "RangeIndex: 1401 entries, 0 to 1400\n",
      "Data columns (total 5 columns):\n",
      "offnet_month     1400 non-null float64\n",
      "offnet_unique    1400 non-null float64\n",
      "month_data       1400 non-null float64\n",
      "month_calls      1400 non-null float64\n",
      "offnet_onnet     1400 non-null float64\n",
      "dtypes: float64(5)\n",
      "memory usage: 54.8 KB\n"
     ]
    }
   ],
   "source": [
    "train_data.info()"
   ]
  },
  {
   "cell_type": "code",
   "execution_count": 16,
   "metadata": {
    "collapsed": true
   },
   "outputs": [],
   "source": [
    "test['offnet_month'] = test['Total Offnet spend'] * test['Total Spend in Months 1 and 2 of 2017'] \n",
    "test['offnet_unique'] = test['Total Offnet spend'] * test['Total Unique Calls'] \n",
    "test['month_data'] = test['Total Spend in Months 1 and 2 of 2017'] * test['Total Data Spend']\n",
    "test['month_calls'] = test['Total Spend in Months 1 and 2 of 2017'] * test['Total Unique Calls']\n",
    "test['offnet_onnet'] = test['Total Offnet spend'] *test['Total Onnet spend ']"
   ]
  },
  {
   "cell_type": "code",
   "execution_count": 17,
   "metadata": {
    "collapsed": true
   },
   "outputs": [],
   "source": [
    "test_data = test[['offnet_month', 'offnet_unique','month_data','month_calls','offnet_onnet']]"
   ]
  },
  {
   "cell_type": "code",
   "execution_count": 18,
   "metadata": {},
   "outputs": [
    {
     "name": "stdout",
     "output_type": "stream",
     "text": [
      "<class 'pandas.core.frame.DataFrame'>\n",
      "RangeIndex: 600 entries, 0 to 599\n",
      "Data columns (total 5 columns):\n",
      "offnet_month     600 non-null float64\n",
      "offnet_unique    600 non-null int64\n",
      "month_data       600 non-null float64\n",
      "month_calls      600 non-null float64\n",
      "offnet_onnet     600 non-null int64\n",
      "dtypes: float64(3), int64(2)\n",
      "memory usage: 23.5 KB\n"
     ]
    }
   ],
   "source": [
    "test_data.info()"
   ]
  },
  {
   "cell_type": "code",
   "execution_count": 19,
   "metadata": {},
   "outputs": [
    {
     "name": "stdout",
     "output_type": "stream",
     "text": [
      "<class 'pandas.core.frame.DataFrame'>\n",
      "RangeIndex: 1401 entries, 0 to 1400\n",
      "Data columns (total 5 columns):\n",
      "offnet_month     1400 non-null float64\n",
      "offnet_unique    1400 non-null float64\n",
      "month_data       1400 non-null float64\n",
      "month_calls      1400 non-null float64\n",
      "offnet_onnet     1400 non-null float64\n",
      "dtypes: float64(5)\n",
      "memory usage: 54.8 KB\n"
     ]
    }
   ],
   "source": [
    "train_data.info()"
   ]
  },
  {
   "cell_type": "code",
   "execution_count": 20,
   "metadata": {
    "collapsed": true
   },
   "outputs": [],
   "source": [
    "from sklearn.model_selection import train_test_split\n",
    "from sklearn.ensemble import RandomForestClassifier\n",
    "from sklearn.metrics import accuracy_score\n",
    "from sklearn.metrics import confusion_matrix\n",
    "from sklearn.linear_model import LogisticRegression\n",
    "from sklearn.feature_selection import RFE"
   ]
  },
  {
   "cell_type": "code",
   "execution_count": 21,
   "metadata": {
    "collapsed": true
   },
   "outputs": [],
   "source": [
    "x_train, x_test, y_train, y_test = train_test_split(train_data, train_remove['Churn Status'],test_size=0.33, random_state=1)"
   ]
  },
  {
   "cell_type": "code",
   "execution_count": 22,
   "metadata": {
    "collapsed": true
   },
   "outputs": [],
   "source": [
    "rf = RandomForestClassifier(n_estimators=600, oob_score=True, random_state=1)"
   ]
  },
  {
   "cell_type": "code",
   "execution_count": 23,
   "metadata": {
    "collapsed": true
   },
   "outputs": [],
   "source": [
    "LR = LogisticRegression(random_state = 1)"
   ]
  },
  {
   "cell_type": "code",
   "execution_count": 41,
   "metadata": {},
   "outputs": [
    {
     "name": "stdout",
     "output_type": "stream",
     "text": [
      "<class 'pandas.core.frame.DataFrame'>\n",
      "RangeIndex: 1401 entries, 0 to 1400\n",
      "Data columns (total 5 columns):\n",
      "offnet_month     1400 non-null float64\n",
      "offnet_unique    1400 non-null float64\n",
      "month_data       1400 non-null float64\n",
      "month_calls      1400 non-null float64\n",
      "offnet_onnet     1400 non-null float64\n",
      "dtypes: float64(5)\n",
      "memory usage: 54.8 KB\n"
     ]
    }
   ],
   "source": [
    "train_data.info()"
   ]
  },
  {
   "cell_type": "code",
   "execution_count": 40,
   "metadata": {},
   "outputs": [
    {
     "name": "stdout",
     "output_type": "stream",
     "text": [
      "<class 'pandas.core.frame.DataFrame'>\n",
      "RangeIndex: 1401 entries, 0 to 1400\n",
      "Data columns (total 14 columns):\n",
      "Churn Status                             1400 non-null float64\n",
      "Total Call centre complaint calls        1400 non-null float64\n",
      "Total Data Consumption                   1400 non-null float64\n",
      "Total Data Spend                         1400 non-null float64\n",
      "Total Offnet spend                       1400 non-null float64\n",
      "Total Onnet spend                        1400 non-null float64\n",
      "Total SMS Spend                          1400 non-null float64\n",
      "Total Spend in Months 1 and 2 of 2017    1400 non-null float64\n",
      "Total Unique Calls                       1400 non-null float64\n",
      "offnet_month                             1400 non-null float64\n",
      "offnet_unique                            1400 non-null float64\n",
      "month_data                               1400 non-null float64\n",
      "month_calls                              1400 non-null float64\n",
      "offnet_onnet                             1400 non-null float64\n",
      "dtypes: float64(14)\n",
      "memory usage: 153.3 KB\n"
     ]
    }
   ],
   "source": [
    "train_remove.info()"
   ]
  },
  {
   "cell_type": "code",
   "execution_count": null,
   "metadata": {
    "collapsed": true
   },
   "outputs": [],
   "source": []
  },
  {
   "cell_type": "code",
   "execution_count": null,
   "metadata": {
    "collapsed": true
   },
   "outputs": [],
   "source": []
  },
  {
   "cell_type": "code",
   "execution_count": null,
   "metadata": {
    "collapsed": true
   },
   "outputs": [],
   "source": []
  },
  {
   "cell_type": "code",
   "execution_count": null,
   "metadata": {
    "collapsed": true
   },
   "outputs": [],
   "source": []
  },
  {
   "cell_type": "code",
   "execution_count": null,
   "metadata": {
    "collapsed": true
   },
   "outputs": [],
   "source": []
  },
  {
   "cell_type": "code",
   "execution_count": null,
   "metadata": {
    "collapsed": true
   },
   "outputs": [],
   "source": []
  },
  {
   "cell_type": "code",
   "execution_count": null,
   "metadata": {
    "collapsed": true
   },
   "outputs": [],
   "source": []
  },
  {
   "cell_type": "code",
   "execution_count": null,
   "metadata": {
    "collapsed": true
   },
   "outputs": [],
   "source": []
  },
  {
   "cell_type": "code",
   "execution_count": null,
   "metadata": {
    "collapsed": true
   },
   "outputs": [],
   "source": []
  },
  {
   "cell_type": "code",
   "execution_count": null,
   "metadata": {
    "collapsed": true
   },
   "outputs": [],
   "source": []
  },
  {
   "cell_type": "code",
   "execution_count": null,
   "metadata": {
    "collapsed": true
   },
   "outputs": [],
   "source": []
  },
  {
   "cell_type": "code",
   "execution_count": null,
   "metadata": {
    "collapsed": true
   },
   "outputs": [],
   "source": []
  },
  {
   "cell_type": "code",
   "execution_count": null,
   "metadata": {
    "collapsed": true
   },
   "outputs": [],
   "source": []
  },
  {
   "cell_type": "code",
   "execution_count": null,
   "metadata": {
    "collapsed": true
   },
   "outputs": [],
   "source": []
  },
  {
   "cell_type": "code",
   "execution_count": null,
   "metadata": {
    "collapsed": true
   },
   "outputs": [],
   "source": []
  },
  {
   "cell_type": "code",
   "execution_count": null,
   "metadata": {
    "collapsed": true
   },
   "outputs": [],
   "source": []
  },
  {
   "cell_type": "code",
   "execution_count": null,
   "metadata": {
    "collapsed": true
   },
   "outputs": [],
   "source": []
  },
  {
   "cell_type": "code",
   "execution_count": null,
   "metadata": {
    "collapsed": true
   },
   "outputs": [],
   "source": []
  },
  {
   "cell_type": "code",
   "execution_count": null,
   "metadata": {
    "collapsed": true
   },
   "outputs": [],
   "source": []
  },
  {
   "cell_type": "code",
   "execution_count": null,
   "metadata": {
    "collapsed": true
   },
   "outputs": [],
   "source": []
  },
  {
   "cell_type": "code",
   "execution_count": null,
   "metadata": {
    "collapsed": true
   },
   "outputs": [],
   "source": []
  },
  {
   "cell_type": "code",
   "execution_count": null,
   "metadata": {
    "collapsed": true
   },
   "outputs": [],
   "source": []
  },
  {
   "cell_type": "code",
   "execution_count": null,
   "metadata": {
    "collapsed": true
   },
   "outputs": [],
   "source": []
  },
  {
   "cell_type": "code",
   "execution_count": null,
   "metadata": {
    "collapsed": true
   },
   "outputs": [],
   "source": []
  },
  {
   "cell_type": "code",
   "execution_count": null,
   "metadata": {
    "collapsed": true
   },
   "outputs": [],
   "source": []
  },
  {
   "cell_type": "code",
   "execution_count": null,
   "metadata": {
    "collapsed": true
   },
   "outputs": [],
   "source": []
  },
  {
   "cell_type": "code",
   "execution_count": null,
   "metadata": {
    "collapsed": true
   },
   "outputs": [],
   "source": []
  },
  {
   "cell_type": "code",
   "execution_count": null,
   "metadata": {
    "collapsed": true
   },
   "outputs": [],
   "source": []
  },
  {
   "cell_type": "code",
   "execution_count": null,
   "metadata": {
    "collapsed": true
   },
   "outputs": [],
   "source": []
  },
  {
   "cell_type": "code",
   "execution_count": null,
   "metadata": {
    "collapsed": true
   },
   "outputs": [],
   "source": []
  }
 ],
 "metadata": {
  "kernelspec": {
   "display_name": "Python 3",
   "language": "python",
   "name": "python3"
  },
  "language_info": {
   "codemirror_mode": {
    "name": "ipython",
    "version": 3
   },
   "file_extension": ".py",
   "mimetype": "text/x-python",
   "name": "python",
   "nbconvert_exporter": "python",
   "pygments_lexer": "ipython3",
   "version": "3.6.2"
  }
 },
 "nbformat": 4,
 "nbformat_minor": 2
}
